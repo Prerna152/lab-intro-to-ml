{
 "cells": [
  {
   "cell_type": "markdown",
   "metadata": {},
   "source": [
    "# Before your start:\n",
    "- Read the README.md file\n",
    "- Comment as much as you can and use the resources in the README.md file\n",
    "- Happy learning!"
   ]
  },
  {
   "cell_type": "code",
   "execution_count": 1,
   "metadata": {},
   "outputs": [],
   "source": [
    "# Import your libraries:\n",
    "\n",
    "%matplotlib inline\n",
    "\n",
    "import matplotlib.pyplot as plt\n",
    "import numpy as np\n",
    "import pandas as pd\n",
    "from sqlalchemy import create_engine"
   ]
  },
  {
   "cell_type": "markdown",
   "metadata": {},
   "source": [
    "\n",
    "# Challenge 0 - Load,Query and Create connection of your Dataset"
   ]
  },
  {
   "cell_type": "markdown",
   "metadata": {},
   "source": [
    "#### A lot of the times you won't have files already saved in an Excel or CSV file for you to prepare your data, implying that a lot of times you'll be extracting data from a Data Warehouse or Data Lake, majority of times through SQL.\n",
    "#### A couple of times you may want to do some queries on your table in mySQL to get a slight view on what you have in hands,\n",
    "#### so let's simulate that!\n",
    "\n",
    "#### First we'll need to create a database and table in mySQL:\n",
    "\n",
    "##### 1º- Open the austin_weather.sql file in MySQL Workbench and run the script into a desired schema.\n",
    "\n",
    "#### 2º- As we are in mySQL Workbench, we can do some queries there, to get an overview on some characteristics of our data:\n",
    " - a) How many days are recorded in the dataset?\n",
    " - b) What is the day with the Highest Temperature in Fahrenheit (column TempHighF)\n",
    " - c) What is the average Humidity across all days? (column HumidityAvgPercent)\n",
    " - d) Top 10 days, where SeaLevelPressureAvgInches is the highest, knowing DewPointAvgF is higher than 28 ?"
   ]
  },
  {
   "cell_type": "code",
   "execution_count": null,
   "metadata": {},
   "outputs": [],
   "source": [
    "# Write your answers below:\n",
    "\n",
    "# a) SELECT COUNT(DISTINCT `Date`) AS NumberOfDaysRecorded\n",
    "FROM austin_weather;\n",
    "# b)SELECT `Date`, `TempHighF`\n",
    "FROM austin_weather\n",
    "ORDER BY `TempHighF` DESC\n",
    "LIMIT 1;\n",
    "# c)SELECT AVG(CAST(`HumidityAvgPercent` AS UNSIGNED)) AS AverageHumidity\n",
    "FROM austin_weather\n",
    "WHERE `HumidityAvgPercent` REGEXP '^[0-9]+$';\n",
    "# d)SELECT `Date`, `SeaLevelPressureAvgInches`\n",
    "FROM austin_weather\n",
    "WHERE `DewPointAvgF` > 28 AND `SeaLevelPressureAvgInches` REGEXP '^[0-9]+(\\.[0-9]+)?$'\n",
    "ORDER BY CAST(`SeaLevelPressureAvgInches` AS DECIMAL(5,2)) DESC\n",
    "LIMIT 10;"
   ]
  },
  {
   "cell_type": "markdown",
   "metadata": {},
   "source": [
    "#### Now that you explored a couple of elements in your table, let's bring your table into this jupyter notebook, by creating a Python-SQL connection like you did on MySQL Project!\n",
    "#### In case you need a little refresher check this [link](https://www.dataquest.io/blog/sql-insert-tutorial/).\n",
    "##### 1º - Create a connection using sqlalchemy from python to mysql \n",
    "##### 2º- Load the table into a variable called weather_df\n"
   ]
  },
  {
   "cell_type": "code",
   "execution_count": 23,
   "metadata": {},
   "outputs": [
    {
     "name": "stdout",
     "output_type": "stream",
     "text": [
      "        Date  TempHighF  TempAvgF  TempLowF DewPointHighF DewPointAvgF  \\\n",
      "0 2013-12-21         74        60        45            67           49   \n",
      "1 2013-12-22         56        48        39            43           36   \n",
      "2 2013-12-23         58        45        32            31           27   \n",
      "3 2013-12-24         61        46        31            36           28   \n",
      "4 2013-12-25         58        50        41            44           40   \n",
      "\n",
      "  DewPointLowF HumidityHighPercent HumidityAvgPercent HumidityLowPercent  ...  \\\n",
      "0           43                  93                 75                 57  ...   \n",
      "1           28                  93                 68                 43  ...   \n",
      "2           23                  76                 52                 27  ...   \n",
      "3           21                  89                 56                 22  ...   \n",
      "4           36                  86                 71                 56  ...   \n",
      "\n",
      "  SeaLevelPressureAvgInches SeaLevelPressureLowInches VisibilityHighMiles  \\\n",
      "0                     29.68                     29.59                  10   \n",
      "1                     30.13                     29.87                  10   \n",
      "2                     30.49                     30.41                  10   \n",
      "3                     30.45                      30.3                  10   \n",
      "4                     30.33                     30.27                  10   \n",
      "\n",
      "  VisibilityAvgMiles VisibilityLowMiles WindHighMPH WindAvgMPH WindGustMPH  \\\n",
      "0                  7                  2          20          4          31   \n",
      "1                 10                  5          16          6          25   \n",
      "2                 10                 10           8          3          12   \n",
      "3                 10                  7          12          4          20   \n",
      "4                 10                  7          10          2          16   \n",
      "\n",
      "  PrecipitationSumInches               Events  \n",
      "0                   0.46  Rain , Thunderstorm  \n",
      "1                      0                       \n",
      "2                      0                       \n",
      "3                      0                       \n",
      "4                      T                       \n",
      "\n",
      "[5 rows x 21 columns]\n"
     ]
    }
   ],
   "source": [
    "# Database connection parameters\n",
    "db_user = 'root'\n",
    "db_password = 'pass123'\n",
    "db_host = 'localhost'  # Or your database host\n",
    "db_port = '3306'  # Default MySQL port\n",
    "db_name = 'austin_weather'\n",
    "\n",
    "# Create connection string using SQLAlchemy\n",
    "connection_string = f\"mysql+pymysql://{db_user}:{db_password}@{db_host}:{db_port}/{db_name}\"\n",
    "engine = create_engine(connection_string)\n",
    "\n",
    "# Load the table into a DataFrame\n",
    "query = \"SELECT * FROM austin_weather\"\n",
    "weather_df = pd.read_sql(query, con=engine)\n",
    "\n",
    "# Display the first few rows\n",
    "print(weather_df.head())\n",
    "\n",
    "# Close the connection\n",
    "engine.dispose()\n"
   ]
  },
  {
   "cell_type": "markdown",
   "metadata": {},
   "source": [
    "\n",
    "# Challenge 1 - Describe the Dataset"
   ]
  },
  {
   "cell_type": "markdown",
   "metadata": {},
   "source": [
    "#### Describe the dataset you have loaded: \n",
    "- Look at the variables and their types\n",
    "- Examine the descriptive statistics of the numeric variables \n",
    "- Look at the first five rows of all variables to evaluate the categorical variables as well"
   ]
  },
  {
   "cell_type": "code",
   "execution_count": 24,
   "metadata": {},
   "outputs": [
    {
     "name": "stdout",
     "output_type": "stream",
     "text": [
      "Date                          datetime64[ns]\n",
      "TempHighF                              int64\n",
      "TempAvgF                               int64\n",
      "TempLowF                               int64\n",
      "DewPointHighF                         object\n",
      "DewPointAvgF                          object\n",
      "DewPointLowF                          object\n",
      "HumidityHighPercent                   object\n",
      "HumidityAvgPercent                    object\n",
      "HumidityLowPercent                    object\n",
      "SeaLevelPressureHighInches            object\n",
      "SeaLevelPressureAvgInches             object\n",
      "SeaLevelPressureLowInches             object\n",
      "VisibilityHighMiles                   object\n",
      "VisibilityAvgMiles                    object\n",
      "VisibilityLowMiles                    object\n",
      "WindHighMPH                           object\n",
      "WindAvgMPH                            object\n",
      "WindGustMPH                           object\n",
      "PrecipitationSumInches                object\n",
      "Events                                object\n",
      "dtype: object\n"
     ]
    }
   ],
   "source": [
    "# Your code here\n",
    "# Display column names and data types\n",
    "print(weather_df.dtypes)"
   ]
  },
  {
   "cell_type": "code",
   "execution_count": 7,
   "metadata": {},
   "outputs": [
    {
     "name": "stdout",
     "output_type": "stream",
     "text": [
      "                      Date    TempHighF     TempAvgF     TempLowF\n",
      "count                 1319  1319.000000  1319.000000  1319.000000\n",
      "mean   2015-10-11 00:00:00    80.862775    70.642911    59.902957\n",
      "min    2013-12-21 00:00:00    32.000000    29.000000    19.000000\n",
      "25%    2014-11-15 12:00:00    72.000000    62.000000    49.000000\n",
      "50%    2015-10-11 00:00:00    83.000000    73.000000    63.000000\n",
      "75%    2016-09-04 12:00:00    92.000000    83.000000    73.000000\n",
      "max    2017-07-31 00:00:00   107.000000    93.000000    81.000000\n",
      "std                    NaN    14.766523    14.045904    14.190648\n"
     ]
    }
   ],
   "source": [
    "# Your code here\n",
    "# Summary statistics for numeric variables\n",
    "print(weather_df.describe())\n"
   ]
  },
  {
   "cell_type": "code",
   "execution_count": 25,
   "metadata": {},
   "outputs": [
    {
     "name": "stdout",
     "output_type": "stream",
     "text": [
      "        Date  TempHighF  TempAvgF  TempLowF DewPointHighF DewPointAvgF  \\\n",
      "0 2013-12-21         74        60        45            67           49   \n",
      "1 2013-12-22         56        48        39            43           36   \n",
      "2 2013-12-23         58        45        32            31           27   \n",
      "3 2013-12-24         61        46        31            36           28   \n",
      "4 2013-12-25         58        50        41            44           40   \n",
      "\n",
      "  DewPointLowF HumidityHighPercent HumidityAvgPercent HumidityLowPercent  ...  \\\n",
      "0           43                  93                 75                 57  ...   \n",
      "1           28                  93                 68                 43  ...   \n",
      "2           23                  76                 52                 27  ...   \n",
      "3           21                  89                 56                 22  ...   \n",
      "4           36                  86                 71                 56  ...   \n",
      "\n",
      "  SeaLevelPressureAvgInches SeaLevelPressureLowInches VisibilityHighMiles  \\\n",
      "0                     29.68                     29.59                  10   \n",
      "1                     30.13                     29.87                  10   \n",
      "2                     30.49                     30.41                  10   \n",
      "3                     30.45                      30.3                  10   \n",
      "4                     30.33                     30.27                  10   \n",
      "\n",
      "  VisibilityAvgMiles VisibilityLowMiles WindHighMPH WindAvgMPH WindGustMPH  \\\n",
      "0                  7                  2          20          4          31   \n",
      "1                 10                  5          16          6          25   \n",
      "2                 10                 10           8          3          12   \n",
      "3                 10                  7          12          4          20   \n",
      "4                 10                  7          10          2          16   \n",
      "\n",
      "  PrecipitationSumInches               Events  \n",
      "0                   0.46  Rain , Thunderstorm  \n",
      "1                      0                       \n",
      "2                      0                       \n",
      "3                      0                       \n",
      "4                      T                       \n",
      "\n",
      "[5 rows x 21 columns]\n"
     ]
    }
   ],
   "source": [
    "# Your code here\n",
    "# View first five rows of the dataset\n",
    "print(weather_df.head())\n"
   ]
  },
  {
   "cell_type": "markdown",
   "metadata": {},
   "source": [
    "#### Given the information you have learned from examining the dataset, write down three insights about the data in a markdown cell below"
   ]
  },
  {
   "cell_type": "markdown",
   "metadata": {},
   "source": [
    "#### Your Insights:\n",
    "\n",
    "1. There are 21 variables in the dataset. 3 of them are numeric and the rest contain some text.\n",
    "\n",
    "2. The average temperature in Austin ranged between around 70 degrees F and around 93 degrees F. The highest temperature observed during this period was 107 degrees F and the lowest was 19 degrees F.\n",
    "\n",
    "3. When we look at the head function, we see that a lot of variables contain numeric data even though these columns are of object type. This means we might have to do some data cleansing.\n"
   ]
  },
  {
   "cell_type": "markdown",
   "metadata": {},
   "source": [
    "#### Let's examine the DewPointAvgF variable by using the `unique()` function to list all unique values in this dataframe.\n",
    "\n",
    "Describe what you find in a markdown cell below the code. What did you notice? What do you think made Pandas to treat this column as *object* instead of *int64*? "
   ]
  },
  {
   "cell_type": "code",
   "execution_count": 26,
   "metadata": {},
   "outputs": [
    {
     "name": "stdout",
     "output_type": "stream",
     "text": [
      "['49' '36' '27' '28' '40' '39' '41' '26' '42' '22' '48' '32' '8' '11' '45'\n",
      " '55' '61' '37' '47' '25' '23' '20' '33' '30' '29' '17' '14' '13' '54'\n",
      " '59' '15' '24' '34' '35' '57' '50' '53' '60' '46' '56' '51' '31' '38'\n",
      " '62' '43' '63' '64' '67' '66' '58' '70' '68' '65' '69' '71' '72' '-' '73'\n",
      " '74' '21' '44' '52' '12' '75' '76' '18']\n"
     ]
    }
   ],
   "source": [
    "# Your code here\n",
    "# Checking unique values in the DewPointAvgF column\n",
    "unique_values = weather_df['DewPointAvgF'].unique()\n",
    "print(unique_values)"
   ]
  },
  {
   "cell_type": "code",
   "execution_count": null,
   "metadata": {},
   "outputs": [],
   "source": [
    "# Your observation here\n",
    "Presence of Non-Numeric Values\n"
   ]
  },
  {
   "cell_type": "markdown",
   "metadata": {},
   "source": [
    "The following is a list of columns misrepresented as `object`. Use this list to convert the columns to numeric using the `pandas.to_numeric` function in the next cell. If you encounter errors in converting strings to numeric values, you need to catch those errors and force the conversion by supplying `errors='coerce'` as an argument for `pandas.to_numeric`. Coercing will replace non-convertable elements with `NaN` which represents an undefined numeric value. This makes it possible for us to conveniently handle missing values in subsequent data processing.\n",
    "\n",
    "*Hint: you may use a loop to change one column at a time but it is more efficient to use `apply`.*"
   ]
  },
  {
   "cell_type": "code",
   "execution_count": 27,
   "metadata": {},
   "outputs": [],
   "source": [
    "wrong_type_columns = ['DewPointHighF', 'DewPointAvgF', 'DewPointLowF', 'HumidityHighPercent', \n",
    "                      'HumidityAvgPercent', 'HumidityLowPercent', 'SeaLevelPressureHighInches', \n",
    "                      'SeaLevelPressureAvgInches' ,'SeaLevelPressureLowInches', 'VisibilityHighMiles',\n",
    "                      'VisibilityAvgMiles', 'VisibilityLowMiles', 'WindHighMPH', 'WindAvgMPH', \n",
    "                      'WindGustMPH', 'PrecipitationSumInches']"
   ]
  },
  {
   "cell_type": "code",
   "execution_count": 28,
   "metadata": {},
   "outputs": [
    {
     "name": "stdout",
     "output_type": "stream",
     "text": [
      "Date                          datetime64[ns]\n",
      "TempHighF                              int64\n",
      "TempAvgF                               int64\n",
      "TempLowF                               int64\n",
      "DewPointHighF                        float64\n",
      "DewPointAvgF                         float64\n",
      "DewPointLowF                         float64\n",
      "HumidityHighPercent                  float64\n",
      "HumidityAvgPercent                   float64\n",
      "HumidityLowPercent                   float64\n",
      "SeaLevelPressureHighInches           float64\n",
      "SeaLevelPressureAvgInches            float64\n",
      "SeaLevelPressureLowInches            float64\n",
      "VisibilityHighMiles                  float64\n",
      "VisibilityAvgMiles                   float64\n",
      "VisibilityLowMiles                   float64\n",
      "WindHighMPH                          float64\n",
      "WindAvgMPH                           float64\n",
      "WindGustMPH                          float64\n",
      "PrecipitationSumInches               float64\n",
      "Events                                object\n",
      "dtype: object\n"
     ]
    }
   ],
   "source": [
    "# Convert columns to numeric using apply and pd.to_numeric with error coercion\n",
    "weather_df[wrong_type_columns] = weather_df[wrong_type_columns].apply(pd.to_numeric, errors='coerce')\n",
    "\n",
    "# Verify the data types after conversion\n",
    "print(weather_df.dtypes)\n",
    "\n"
   ]
  },
  {
   "cell_type": "markdown",
   "metadata": {},
   "source": [
    "#### Check if your code has worked by printing the data types again. You should see only two `object` columns (`Date` and `Events`) now. All other columns should be `int64` or `float64`."
   ]
  },
  {
   "cell_type": "code",
   "execution_count": 29,
   "metadata": {},
   "outputs": [
    {
     "name": "stdout",
     "output_type": "stream",
     "text": [
      "Date                          datetime64[ns]\n",
      "TempHighF                              int64\n",
      "TempAvgF                               int64\n",
      "TempLowF                               int64\n",
      "DewPointHighF                        float64\n",
      "DewPointAvgF                         float64\n",
      "DewPointLowF                         float64\n",
      "HumidityHighPercent                  float64\n",
      "HumidityAvgPercent                   float64\n",
      "HumidityLowPercent                   float64\n",
      "SeaLevelPressureHighInches           float64\n",
      "SeaLevelPressureAvgInches            float64\n",
      "SeaLevelPressureLowInches            float64\n",
      "VisibilityHighMiles                  float64\n",
      "VisibilityAvgMiles                   float64\n",
      "VisibilityLowMiles                   float64\n",
      "WindHighMPH                          float64\n",
      "WindAvgMPH                           float64\n",
      "WindGustMPH                          float64\n",
      "PrecipitationSumInches               float64\n",
      "Events                                object\n",
      "dtype: object\n"
     ]
    }
   ],
   "source": [
    "# Your code here\n",
    "print(weather_df.dtypes)\n"
   ]
  },
  {
   "cell_type": "markdown",
   "metadata": {},
   "source": [
    "# Challenge 2 - Handle the Missing Data"
   ]
  },
  {
   "cell_type": "markdown",
   "metadata": {},
   "source": [
    "#### Now that we have fixed the type mismatch, let's address the missing data.\n",
    "\n",
    "By coercing the columns to numeric, we have created `NaN` for each cell containing characters. We should choose a strategy to address these missing data.\n",
    "\n",
    "The first step is to examine how many rows contain missing data.\n",
    "\n",
    "We check how much missing data we have by applying the `.isnull()` function to our dataset. To find the rows with missing data in any of its cells, we apply `.any(axis=1)` to the function. `austin.isnull().any(axis=1)` will return a column containing true if the row contains at least one missing value and false otherwise. Therefore we must subset our dataframe with this column. This will give us all rows with at least one missing value. \n",
    "\n",
    "#### In the next cell, identify all rows containing at least one missing value. Assign the dataframes with missing values to a variable called `missing_values`."
   ]
  },
  {
   "cell_type": "code",
   "execution_count": 30,
   "metadata": {},
   "outputs": [
    {
     "name": "stdout",
     "output_type": "stream",
     "text": [
      "           Date  TempHighF  TempAvgF  TempLowF  DewPointHighF  DewPointAvgF  \\\n",
      "4    2013-12-25         58        50        41           44.0          40.0   \n",
      "6    2013-12-27         60        53        45           41.0          39.0   \n",
      "7    2013-12-28         62        51        40           43.0          39.0   \n",
      "42   2014-02-01         76        66        55           62.0          59.0   \n",
      "51   2014-02-10         60        48        35           49.0          36.0   \n",
      "...         ...        ...       ...       ...            ...           ...   \n",
      "1269 2017-06-12         94        85        75           72.0          68.0   \n",
      "1288 2017-07-01         98        89        79           76.0          72.0   \n",
      "1304 2017-07-17         98        88        77           75.0          71.0   \n",
      "1308 2017-07-21        104        91        77           74.0          68.0   \n",
      "1313 2017-07-26        103        91        78           75.0          70.0   \n",
      "\n",
      "      DewPointLowF  HumidityHighPercent  HumidityAvgPercent  \\\n",
      "4             36.0                 86.0                71.0   \n",
      "6             37.0                 83.0                65.0   \n",
      "7             33.0                 92.0                64.0   \n",
      "42            41.0                 81.0                71.0   \n",
      "51            30.0                 82.0                74.0   \n",
      "...            ...                  ...                 ...   \n",
      "1269          62.0                 87.0                62.0   \n",
      "1288          66.0                 85.0                62.0   \n",
      "1304          66.0                 88.0                63.0   \n",
      "1308          61.0                 85.0                56.0   \n",
      "1313          61.0                 91.0                58.0   \n",
      "\n",
      "      HumidityLowPercent  ...  SeaLevelPressureAvgInches  \\\n",
      "4                   56.0  ...                      30.33   \n",
      "6                   47.0  ...                      30.39   \n",
      "7                   36.0  ...                      30.17   \n",
      "42                  60.0  ...                      29.81   \n",
      "51                  66.0  ...                      30.15   \n",
      "...                  ...  ...                        ...   \n",
      "1269                36.0  ...                      29.89   \n",
      "1288                38.0  ...                      30.02   \n",
      "1304                38.0  ...                      29.90   \n",
      "1308                27.0  ...                      29.95   \n",
      "1313                25.0  ...                      30.03   \n",
      "\n",
      "      SeaLevelPressureLowInches  VisibilityHighMiles  VisibilityAvgMiles  \\\n",
      "4                         30.27                 10.0                10.0   \n",
      "6                         30.34                 10.0                 9.0   \n",
      "7                         30.04                 10.0                10.0   \n",
      "42                        29.75                 10.0                10.0   \n",
      "51                        30.02                 10.0                 8.0   \n",
      "...                         ...                  ...                 ...   \n",
      "1269                      29.81                 10.0                10.0   \n",
      "1288                      29.92                 10.0                 9.0   \n",
      "1304                      29.84                 10.0                10.0   \n",
      "1308                      29.86                 10.0                10.0   \n",
      "1313                      29.93                 10.0                10.0   \n",
      "\n",
      "      VisibilityLowMiles  WindHighMPH  WindAvgMPH  WindGustMPH  \\\n",
      "4                    7.0         10.0         2.0         16.0   \n",
      "6                    7.0          7.0         1.0         11.0   \n",
      "7                    7.0         10.0         2.0         14.0   \n",
      "42                   9.0         14.0         6.0         26.0   \n",
      "51                   4.0         15.0         9.0         23.0   \n",
      "...                  ...          ...         ...          ...   \n",
      "1269                 2.0         15.0         7.0         22.0   \n",
      "1288                 6.0         15.0         7.0         24.0   \n",
      "1304                10.0         16.0         3.0         23.0   \n",
      "1308                10.0         14.0         5.0         24.0   \n",
      "1313                10.0         15.0         6.0         27.0   \n",
      "\n",
      "      PrecipitationSumInches               Events  \n",
      "4                        NaN                       \n",
      "6                        NaN                       \n",
      "7                        NaN                       \n",
      "42                       NaN                 Rain  \n",
      "51                       NaN                 Rain  \n",
      "...                      ...                  ...  \n",
      "1269                     NaN                 Rain  \n",
      "1288                     NaN                       \n",
      "1304                     NaN  Rain , Thunderstorm  \n",
      "1308                     NaN                       \n",
      "1313                     NaN                       \n",
      "\n",
      "[136 rows x 21 columns]\n",
      "Total rows with missing values: 136\n"
     ]
    },
    {
     "data": {
      "text/plain": [
       "45"
      ]
     },
     "execution_count": 30,
     "metadata": {},
     "output_type": "execute_result"
    }
   ],
   "source": [
    "# Your code here\n",
    "# Identify rows with missing values\n",
    "missing_values = weather_df[weather_df.isnull().any(axis=1)]\n",
    "\n",
    "# Display the rows with missing values\n",
    "print(missing_values)\n",
    "\n",
    "# Check the total number of missing rows\n",
    "print(f\"Total rows with missing values: {missing_values.shape[0]}\")\n",
    "45"
   ]
  },
  {
   "cell_type": "markdown",
   "metadata": {},
   "source": [
    "There are multiple strategies to handle missing data. Below lists the most common ones data scientists use:\n",
    "\n",
    "* Removing all rows or all columns containing missing data. This is the simplest strategy. It may work in some cases but not others.\n",
    "\n",
    "* Filling all missing values with a placeholder value. \n",
    "    * For categorical data, `0`, `-1`, and `9999` are some commonly used placeholder values. \n",
    "    * For continuous data, some may opt to fill all missing data with the mean. This strategy is not optimal since it can increase the fit of the model.\n",
    "\n",
    "* Filling the values using some algorithm. \n",
    "\n",
    "#### In our case, we will use a hybrid approach which is to first remove the data that contain most missing values then fill in the rest of the missing values with the *linear interpolation* algorithm."
   ]
  },
  {
   "cell_type": "markdown",
   "metadata": {},
   "source": [
    "#### Next, count the number of rows of `austin` and `missing_values`."
   ]
  },
  {
   "cell_type": "code",
   "execution_count": 31,
   "metadata": {},
   "outputs": [
    {
     "name": "stdout",
     "output_type": "stream",
     "text": [
      "Total number of rows in the dataset: 1319\n",
      "Number of rows with missing values: 136\n"
     ]
    }
   ],
   "source": [
    "# Your code here\n",
    "# Count the total number of rows in the original dataset\n",
    "total_rows = weather_df.shape[0]\n",
    "print(f\"Total number of rows in the dataset: {total_rows}\")\n",
    "\n",
    "# Count the number of rows with missing values\n",
    "missing_rows = missing_values.shape[0]\n",
    "print(f\"Number of rows with missing values: {missing_rows}\")\n"
   ]
  },
  {
   "cell_type": "markdown",
   "metadata": {},
   "source": [
    "#### Calculate the ratio of missing rows to total rows"
   ]
  },
  {
   "cell_type": "code",
   "execution_count": 32,
   "metadata": {},
   "outputs": [
    {
     "name": "stdout",
     "output_type": "stream",
     "text": [
      "Ratio of missing rows to total rows: 10.31%\n"
     ]
    }
   ],
   "source": [
    "# Your code here\n",
    "# Calculate the ratio of missing rows to total rows\n",
    "missing_ratio = missing_rows / total_rows\n",
    "print(f\"Ratio of missing rows to total rows: {missing_ratio:.2%}\")"
   ]
  },
  {
   "cell_type": "markdown",
   "metadata": {},
   "source": [
    "As you can see, there is a large proportion of missing data (over 10%). Perhaps we should evaluate which columns have the most missing data and remove those columns. For the remaining columns, we will perform a linear approximation of the missing data.\n",
    "\n",
    "We can find the number of missing rows in each column using the `.isna()` function. We then chain the `.sum` function to the `.isna()` function and find the number of missing rows per column"
   ]
  },
  {
   "cell_type": "code",
   "execution_count": 33,
   "metadata": {},
   "outputs": [
    {
     "name": "stdout",
     "output_type": "stream",
     "text": [
      "DewPointHighF                   7\n",
      "DewPointAvgF                    7\n",
      "DewPointLowF                    7\n",
      "HumidityHighPercent             2\n",
      "HumidityAvgPercent              2\n",
      "HumidityLowPercent              2\n",
      "SeaLevelPressureHighInches      3\n",
      "SeaLevelPressureAvgInches       3\n",
      "SeaLevelPressureLowInches       3\n",
      "VisibilityHighMiles            12\n",
      "VisibilityAvgMiles             12\n",
      "VisibilityLowMiles             12\n",
      "WindHighMPH                     2\n",
      "WindAvgMPH                      2\n",
      "WindGustMPH                     4\n",
      "PrecipitationSumInches        124\n",
      "dtype: int64\n"
     ]
    }
   ],
   "source": [
    "# Your code here\n",
    "# Count missing values per column\n",
    "missing_per_column = weather_df.isna().sum()\n",
    "\n",
    "# Display the columns with missing values\n",
    "print(missing_per_column[missing_per_column > 0])"
   ]
  },
  {
   "cell_type": "markdown",
   "metadata": {},
   "source": [
    "#### As you can see from the output, the majority of missing data is in one column called `PrecipitationSumInches`. What's the number of missing values in this column in ratio to its total number of rows?"
   ]
  },
  {
   "cell_type": "code",
   "execution_count": 34,
   "metadata": {},
   "outputs": [
    {
     "name": "stdout",
     "output_type": "stream",
     "text": [
      "Missing values in 'PrecipitationSumInches': 124\n",
      "Total rows: 1319\n",
      "Missing data ratio: 9.40%\n"
     ]
    }
   ],
   "source": [
    "# Your code here\n",
    "# Calculate the number of missing values in 'PrecipitationSumInches'\n",
    "missing_precipitation = weather_df['PrecipitationSumInches'].isna().sum()\n",
    "\n",
    "# Calculate the total number of rows\n",
    "total_rows = len(weather_df)\n",
    "\n",
    "# Compute the ratio of missing values\n",
    "missing_ratio = missing_precipitation / total_rows\n",
    "\n",
    "# Display the result as a percentage\n",
    "print(f\"Missing values in 'PrecipitationSumInches': {missing_precipitation}\")\n",
    "print(f\"Total rows: {total_rows}\")\n",
    "print(f\"Missing data ratio: {missing_ratio:.2%}\")\n"
   ]
  },
  {
   "cell_type": "markdown",
   "metadata": {},
   "source": [
    "Almost 10% data missing! Therefore, we prefer to remove this column instead of filling its missing values. \n",
    "\n",
    "#### Remove this column from `austin` using the `.drop()` function. Use the `inplace=True` argument.\n",
    "\n",
    "*Hints:*\n",
    "\n",
    "* By supplying `inplace=True` to `drop()`, the original dataframe object will be changed in place and the function will return `None`. In contrast, if you don't supply `inplace=True`, which is equivalent to supplying `inplace=False` because `False` is the default value, the original dataframe object will be kept and the function returns a copy of the transformed dataframe object. In the latter case, you'll have to assign the returned object back to your variable.\n",
    "\n",
    "* Also, since you are dropping a column instead of a row, you'll need to supply `axis=1` to `drop()`.\n",
    "\n",
    "[Reference for `pandas.DataFrame.drop`](https://pandas.pydata.org/pandas-docs/stable/generated/pandas.DataFrame.drop.html)"
   ]
  },
  {
   "cell_type": "code",
   "execution_count": 35,
   "metadata": {},
   "outputs": [
    {
     "name": "stdout",
     "output_type": "stream",
     "text": [
      "        Date  TempHighF  TempAvgF  TempLowF  DewPointHighF  DewPointAvgF  \\\n",
      "0 2013-12-21         74        60        45           67.0          49.0   \n",
      "1 2013-12-22         56        48        39           43.0          36.0   \n",
      "2 2013-12-23         58        45        32           31.0          27.0   \n",
      "3 2013-12-24         61        46        31           36.0          28.0   \n",
      "4 2013-12-25         58        50        41           44.0          40.0   \n",
      "\n",
      "   DewPointLowF  HumidityHighPercent  HumidityAvgPercent  HumidityLowPercent  \\\n",
      "0          43.0                 93.0                75.0                57.0   \n",
      "1          28.0                 93.0                68.0                43.0   \n",
      "2          23.0                 76.0                52.0                27.0   \n",
      "3          21.0                 89.0                56.0                22.0   \n",
      "4          36.0                 86.0                71.0                56.0   \n",
      "\n",
      "   SeaLevelPressureHighInches  SeaLevelPressureAvgInches  \\\n",
      "0                       29.86                      29.68   \n",
      "1                       30.41                      30.13   \n",
      "2                       30.56                      30.49   \n",
      "3                       30.56                      30.45   \n",
      "4                       30.41                      30.33   \n",
      "\n",
      "   SeaLevelPressureLowInches  VisibilityHighMiles  VisibilityAvgMiles  \\\n",
      "0                      29.59                 10.0                 7.0   \n",
      "1                      29.87                 10.0                10.0   \n",
      "2                      30.41                 10.0                10.0   \n",
      "3                      30.30                 10.0                10.0   \n",
      "4                      30.27                 10.0                10.0   \n",
      "\n",
      "   VisibilityLowMiles  WindHighMPH  WindAvgMPH  WindGustMPH  \\\n",
      "0                 2.0         20.0         4.0         31.0   \n",
      "1                 5.0         16.0         6.0         25.0   \n",
      "2                10.0          8.0         3.0         12.0   \n",
      "3                 7.0         12.0         4.0         20.0   \n",
      "4                 7.0         10.0         2.0         16.0   \n",
      "\n",
      "                Events  \n",
      "0  Rain , Thunderstorm  \n",
      "1                       \n",
      "2                       \n",
      "3                       \n",
      "4                       \n"
     ]
    }
   ],
   "source": [
    "# Your code here \n",
    "\n",
    "# Drop the column with missing values\n",
    "weather_df.drop(columns=['PrecipitationSumInches'], inplace=True)\n",
    "\n",
    "# Print `austin` to confirm the column is indeed removed\n",
    "print(weather_df.head())\n"
   ]
  },
  {
   "cell_type": "markdown",
   "metadata": {},
   "source": [
    "#### Next we will perform linear interpolation of the missing data.\n",
    "\n",
    "This means that we will use a linear algorithm to estimate the missing data. Linear interpolation assumes that there is a straight line between the points and the missing point will fall on that line. This is a good enough approximation for weather related data. Weather related data is typically a time series. Therefore, we do not want to drop rows from our data if possible. It is prefereable to estimate the missing values rather than remove the rows. However, if you have data from a single point in time, perhaps a better solution would be to remove the rows. \n",
    "\n",
    "If you would like to read more about linear interpolation, you can do so [here](https://en.wikipedia.org/wiki/Linear_interpolation).\n",
    "\n",
    "In the following cell, use the `.interpolate()` function on the entire dataframe. This time pass the `inplace=False` argument to the function and assign the interpolated dataframe to a new variable called `austin_fixed` so that we can compare with `austin`."
   ]
  },
  {
   "cell_type": "code",
   "execution_count": 37,
   "metadata": {},
   "outputs": [
    {
     "name": "stdout",
     "output_type": "stream",
     "text": [
      "        Date  TempHighF  TempAvgF  TempLowF  DewPointHighF  DewPointAvgF  \\\n",
      "0 2013-12-21         74        60        45           67.0          49.0   \n",
      "1 2013-12-22         56        48        39           43.0          36.0   \n",
      "2 2013-12-23         58        45        32           31.0          27.0   \n",
      "3 2013-12-24         61        46        31           36.0          28.0   \n",
      "4 2013-12-25         58        50        41           44.0          40.0   \n",
      "\n",
      "   DewPointLowF  HumidityHighPercent  HumidityAvgPercent  HumidityLowPercent  \\\n",
      "0          43.0                 93.0                75.0                57.0   \n",
      "1          28.0                 93.0                68.0                43.0   \n",
      "2          23.0                 76.0                52.0                27.0   \n",
      "3          21.0                 89.0                56.0                22.0   \n",
      "4          36.0                 86.0                71.0                56.0   \n",
      "\n",
      "   SeaLevelPressureHighInches  SeaLevelPressureAvgInches  \\\n",
      "0                       29.86                      29.68   \n",
      "1                       30.41                      30.13   \n",
      "2                       30.56                      30.49   \n",
      "3                       30.56                      30.45   \n",
      "4                       30.41                      30.33   \n",
      "\n",
      "   SeaLevelPressureLowInches  VisibilityHighMiles  VisibilityAvgMiles  \\\n",
      "0                      29.59                 10.0                 7.0   \n",
      "1                      29.87                 10.0                10.0   \n",
      "2                      30.41                 10.0                10.0   \n",
      "3                      30.30                 10.0                10.0   \n",
      "4                      30.27                 10.0                10.0   \n",
      "\n",
      "   VisibilityLowMiles  WindHighMPH  WindAvgMPH  WindGustMPH  \\\n",
      "0                 2.0         20.0         4.0         31.0   \n",
      "1                 5.0         16.0         6.0         25.0   \n",
      "2                10.0          8.0         3.0         12.0   \n",
      "3                 7.0         12.0         4.0         20.0   \n",
      "4                 7.0         10.0         2.0         16.0   \n",
      "\n",
      "                Events  \n",
      "0  Rain , Thunderstorm  \n",
      "1                       \n",
      "2                       \n",
      "3                       \n",
      "4                       \n"
     ]
    },
    {
     "name": "stderr",
     "output_type": "stream",
     "text": [
      "C:\\Users\\navin\\AppData\\Local\\Temp\\ipykernel_5944\\3295544458.py:3: FutureWarning: DataFrame.interpolate with object dtype is deprecated and will raise in a future version. Call obj.infer_objects(copy=False) before interpolating instead.\n",
      "  austin_fixed = weather_df.interpolate(inplace=False)\n"
     ]
    }
   ],
   "source": [
    "# Your code here\n",
    "# Interpolating missing values and assigning to a new variable\n",
    "austin_fixed = weather_df.interpolate(inplace=False)\n",
    "\n",
    "# Display the first few rows to compare\n",
    "print(austin_fixed.head())\n"
   ]
  },
  {
   "cell_type": "markdown",
   "metadata": {},
   "source": [
    "#### Check to make sure `austin_fixed` contains no missing data. Also check `austin` - it still contains missing data."
   ]
  },
  {
   "cell_type": "code",
   "execution_count": 38,
   "metadata": {},
   "outputs": [
    {
     "name": "stdout",
     "output_type": "stream",
     "text": [
      "Missing values in austin_fixed:\n",
      "0\n",
      "Missing values in weather_df:\n",
      "80\n"
     ]
    }
   ],
   "source": [
    "# Your code here\n",
    "# Check for missing data in the interpolated dataframe\n",
    "print(\"Missing values in austin_fixed:\")\n",
    "print(austin_fixed.isnull().sum().sum())  # Should be 0 if interpolation worked correctly\n",
    "\n",
    "# Check for missing data in the original dataframe\n",
    "print(\"Missing values in weather_df:\")\n",
    "print(weather_df.isnull().sum().sum())  # Should show the original count of missing values"
   ]
  },
  {
   "cell_type": "markdown",
   "metadata": {},
   "source": [
    "# Challenge 3 - Processing the `Events` Column"
   ]
  },
  {
   "cell_type": "markdown",
   "metadata": {},
   "source": [
    "#### Our dataframe contains one true text column - the Events column. We should evaluate this column to determine how to process it.\n",
    "\n",
    "Use the `value_counts()` function to evaluate the contents of this column"
   ]
  },
  {
   "cell_type": "code",
   "execution_count": 39,
   "metadata": {},
   "outputs": [
    {
     "name": "stdout",
     "output_type": "stream",
     "text": [
      "Events\n",
      "                             903\n",
      "Rain                         192\n",
      "Rain , Thunderstorm          137\n",
      "Fog , Rain , Thunderstorm     33\n",
      "Fog                           21\n",
      "Thunderstorm                  17\n",
      "Fog , Rain                    14\n",
      "Rain , Snow                    1\n",
      "Fog , Thunderstorm             1\n",
      "Name: count, dtype: int64\n"
     ]
    }
   ],
   "source": [
    "# Your code here:\n",
    "# Check the unique values and their counts in the 'Events' column\n",
    "print(weather_df['Events'].value_counts())"
   ]
  },
  {
   "cell_type": "markdown",
   "metadata": {},
   "source": [
    "Reading the values of `Events` and reflecting what those values mean in the context of data, you realize this column indicates what weather events had happened in a particular day.\n",
    "\n",
    "#### What is the largest number of events happened in a single day? Enter your answer in the next cell."
   ]
  },
  {
   "cell_type": "code",
   "execution_count": 40,
   "metadata": {},
   "outputs": [
    {
     "name": "stdout",
     "output_type": "stream",
     "text": [
      "Events\n",
      "                             903\n",
      "Rain                         192\n",
      "Rain , Thunderstorm          137\n",
      "Fog , Rain , Thunderstorm     33\n",
      "Fog                           21\n",
      "Thunderstorm                  17\n",
      "Fog , Rain                    14\n",
      "Rain , Snow                    1\n",
      "Fog , Thunderstorm             1\n",
      "Name: count, dtype: int64\n"
     ]
    }
   ],
   "source": [
    "# Your answer:\n",
    "# Check the unique values and their counts in the 'Events' column\n",
    "print(weather_df['Events'].value_counts())"
   ]
  },
  {
   "cell_type": "markdown",
   "metadata": {},
   "source": [
    "#### We want to transform the string-type `Events` values to the numbers. This will allow us to apply machine learning algorithms easily.\n",
    "\n",
    "How? We will create a new column for each type of events (i.e. *Rain*, *Snow*, *Fog*, *Thunderstorm*. In each column, we use `1` to indicate if the corresponding event happened in that day and use `0` otherwise.\n",
    "\n",
    "Below we provide you a list of all event types. Loop the list and create a dummy column with `0` values for each event in `austin_fixed`. To create a new dummy column with `0` values, simply use `austin_fixed[event] = 0`."
   ]
  },
  {
   "cell_type": "code",
   "execution_count": 41,
   "metadata": {},
   "outputs": [
    {
     "name": "stdout",
     "output_type": "stream",
     "text": [
      "        Date  TempHighF  TempAvgF  TempLowF  DewPointHighF  DewPointAvgF  \\\n",
      "0 2013-12-21         74        60        45           67.0          49.0   \n",
      "1 2013-12-22         56        48        39           43.0          36.0   \n",
      "2 2013-12-23         58        45        32           31.0          27.0   \n",
      "3 2013-12-24         61        46        31           36.0          28.0   \n",
      "4 2013-12-25         58        50        41           44.0          40.0   \n",
      "\n",
      "   DewPointLowF  HumidityHighPercent  HumidityAvgPercent  HumidityLowPercent  \\\n",
      "0          43.0                 93.0                75.0                57.0   \n",
      "1          28.0                 93.0                68.0                43.0   \n",
      "2          23.0                 76.0                52.0                27.0   \n",
      "3          21.0                 89.0                56.0                22.0   \n",
      "4          36.0                 86.0                71.0                56.0   \n",
      "\n",
      "   ...  VisibilityAvgMiles  VisibilityLowMiles  WindHighMPH  WindAvgMPH  \\\n",
      "0  ...                 7.0                 2.0         20.0         4.0   \n",
      "1  ...                10.0                 5.0         16.0         6.0   \n",
      "2  ...                10.0                10.0          8.0         3.0   \n",
      "3  ...                10.0                 7.0         12.0         4.0   \n",
      "4  ...                10.0                 7.0         10.0         2.0   \n",
      "\n",
      "   WindGustMPH               Events  Rain  Snow  Fog Thunderstorm  \n",
      "0         31.0  Rain , Thunderstorm     0     0    0            0  \n",
      "1         25.0                          0     0    0            0  \n",
      "2         12.0                          0     0    0            0  \n",
      "3         20.0                          0     0    0            0  \n",
      "4         16.0                          0     0    0            0  \n",
      "\n",
      "[5 rows x 24 columns]\n"
     ]
    }
   ],
   "source": [
    "event_list = ['Snow', 'Fog', 'Rain', 'Thunderstorm']\n",
    "\n",
    "# Your code here\n",
    "# List of event types\n",
    "event_types = ['Rain', 'Snow', 'Fog', 'Thunderstorm']\n",
    "\n",
    "# Create a dummy column for each event with 0 values\n",
    "for event in event_types:\n",
    "    austin_fixed[event] = 0\n",
    "\n",
    "# Print your new dataframe to check whether new columns have been created:\n",
    "\n",
    "print(austin_fixed.head())"
   ]
  },
  {
   "cell_type": "markdown",
   "metadata": {},
   "source": [
    "#### Next, populate the actual values in the dummy columns of  `austin_fixed`.\n",
    "\n",
    "You will check the *Events* column. If its string value contains `Rain`, then the *Rain* column should be `1`. The same for `Snow`, `Fog`, and `Thunderstorm`.\n",
    "\n",
    "*Hints:*\n",
    "\n",
    "* Use [`pandas.Series.str.contains()`](https://pandas.pydata.org/pandas-docs/stable/generated/pandas.Series.str.contains.html) to create the value series of each new column.\n",
    "\n",
    "* What if the values you populated are booleans instead of numbers? You can cast the boolean values to numbers by using `.astype(int)`. For instance, `pd.Series([True, True, False]).astype(int)` will return a new series with values of `[1, 1, 0]`."
   ]
  },
  {
   "cell_type": "code",
   "execution_count": 42,
   "metadata": {},
   "outputs": [
    {
     "name": "stdout",
     "output_type": "stream",
     "text": [
      "                Events  Rain  Snow  Fog  Thunderstorm\n",
      "0  Rain , Thunderstorm     1     0    0             1\n",
      "1                          0     0    0             0\n",
      "2                          0     0    0             0\n",
      "3                          0     0    0             0\n",
      "4                          0     0    0             0\n"
     ]
    }
   ],
   "source": [
    "# Your code here\n",
    "# Populate the dummy columns based on the Events column\n",
    "for event in event_types:\n",
    "    austin_fixed[event] = austin_fixed['Events'].str.contains(event, na=False).astype(int)\n",
    "\n",
    "# Display the first few rows to verify the changes\n",
    "print(austin_fixed[['Events'] + event_types].head())\n"
   ]
  },
  {
   "cell_type": "markdown",
   "metadata": {},
   "source": [
    "#### Print out `austin_fixed` to check if the event columns are populated with the intended values"
   ]
  },
  {
   "cell_type": "code",
   "execution_count": 43,
   "metadata": {},
   "outputs": [
    {
     "name": "stdout",
     "output_type": "stream",
     "text": [
      "        Date  TempHighF  TempAvgF  TempLowF  DewPointHighF  DewPointAvgF  \\\n",
      "0 2013-12-21         74        60        45           67.0          49.0   \n",
      "1 2013-12-22         56        48        39           43.0          36.0   \n",
      "2 2013-12-23         58        45        32           31.0          27.0   \n",
      "3 2013-12-24         61        46        31           36.0          28.0   \n",
      "4 2013-12-25         58        50        41           44.0          40.0   \n",
      "\n",
      "   DewPointLowF  HumidityHighPercent  HumidityAvgPercent  HumidityLowPercent  \\\n",
      "0          43.0                 93.0                75.0                57.0   \n",
      "1          28.0                 93.0                68.0                43.0   \n",
      "2          23.0                 76.0                52.0                27.0   \n",
      "3          21.0                 89.0                56.0                22.0   \n",
      "4          36.0                 86.0                71.0                56.0   \n",
      "\n",
      "   ...  VisibilityAvgMiles  VisibilityLowMiles  WindHighMPH  WindAvgMPH  \\\n",
      "0  ...                 7.0                 2.0         20.0         4.0   \n",
      "1  ...                10.0                 5.0         16.0         6.0   \n",
      "2  ...                10.0                10.0          8.0         3.0   \n",
      "3  ...                10.0                 7.0         12.0         4.0   \n",
      "4  ...                10.0                 7.0         10.0         2.0   \n",
      "\n",
      "   WindGustMPH               Events  Rain  Snow  Fog Thunderstorm  \n",
      "0         31.0  Rain , Thunderstorm     1     0    0            1  \n",
      "1         25.0                          0     0    0            0  \n",
      "2         12.0                          0     0    0            0  \n",
      "3         20.0                          0     0    0            0  \n",
      "4         16.0                          0     0    0            0  \n",
      "\n",
      "[5 rows x 24 columns]\n"
     ]
    }
   ],
   "source": [
    "# Your code here# Print out the first few rows of austin_fixed to check if the event columns are populated\n",
    "print(austin_fixed.head())\n",
    "\n"
   ]
  },
  {
   "cell_type": "markdown",
   "metadata": {},
   "source": [
    "#### If your code worked correctly, now we can drop the `Events` column as we don't need it any more."
   ]
  },
  {
   "cell_type": "code",
   "execution_count": 45,
   "metadata": {},
   "outputs": [],
   "source": [
    "# Your code here\n",
    "austin_fixed.drop(columns=['Events'], inplace=True)"
   ]
  },
  {
   "cell_type": "markdown",
   "metadata": {},
   "source": [
    "# Challenge 4 - Processing The `Date` Column\n",
    "\n",
    "The `Date` column is another non-numeric field in our dataset. A value in that field looks like `'2014-01-06'` which consists of the year, month, and day connected with hyphens. One way to convert the date string to numerical is using a similar approach as we used for `Events`, namely splitting the column into numerical `Year`, `Month`, and `Day` columns. In this challenge we'll show you another way which is to use the Python `datetime` library's `toordinal()` function. Depending on what actual machine learning analysis you will conduct, each approach has its pros and cons. Our goal today is to practice data preparation so we'll skip the discussion here.\n",
    "\n",
    "Here you can find the [reference](https://docs.python.org/3/library/datetime.html) and [example](https://stackoverflow.com/questions/39846918/convert-date-to-ordinal-python) for `toordinal`. The basic process is to first convert the string to a `datetime` object using `datetime.datetime.strptime`, then convert the `datetime` object to numerical using `toordinal`.\n",
    "\n",
    "#### In the cell below, convert the `Date` column values from string to numeric values using `toordinal()`."
   ]
  },
  {
   "cell_type": "code",
   "execution_count": 46,
   "metadata": {},
   "outputs": [
    {
     "name": "stdout",
     "output_type": "stream",
     "text": [
      "        Date  TempHighF  TempAvgF  TempLowF  DewPointHighF  DewPointAvgF  \\\n",
      "0 2013-12-21         74        60        45           67.0          49.0   \n",
      "1 2013-12-22         56        48        39           43.0          36.0   \n",
      "2 2013-12-23         58        45        32           31.0          27.0   \n",
      "3 2013-12-24         61        46        31           36.0          28.0   \n",
      "4 2013-12-25         58        50        41           44.0          40.0   \n",
      "\n",
      "   DewPointLowF  HumidityHighPercent  HumidityAvgPercent  HumidityLowPercent  \\\n",
      "0          43.0                 93.0                75.0                57.0   \n",
      "1          28.0                 93.0                68.0                43.0   \n",
      "2          23.0                 76.0                52.0                27.0   \n",
      "3          21.0                 89.0                56.0                22.0   \n",
      "4          36.0                 86.0                71.0                56.0   \n",
      "\n",
      "   ...  VisibilityHighMiles  VisibilityAvgMiles  VisibilityLowMiles  \\\n",
      "0  ...                 10.0                 7.0                 2.0   \n",
      "1  ...                 10.0                10.0                 5.0   \n",
      "2  ...                 10.0                10.0                10.0   \n",
      "3  ...                 10.0                10.0                 7.0   \n",
      "4  ...                 10.0                10.0                 7.0   \n",
      "\n",
      "   WindHighMPH  WindAvgMPH  WindGustMPH  Rain  Snow  Fog  Thunderstorm  \n",
      "0         20.0         4.0         31.0     1     0    0             1  \n",
      "1         16.0         6.0         25.0     0     0    0             0  \n",
      "2          8.0         3.0         12.0     0     0    0             0  \n",
      "3         12.0         4.0         20.0     0     0    0             0  \n",
      "4         10.0         2.0         16.0     0     0    0             0  \n",
      "\n",
      "[5 rows x 23 columns]\n"
     ]
    }
   ],
   "source": [
    "# Your code here\n",
    "# Print the dataframe to confirm the column has been removed\n",
    "print(austin_fixed.head())"
   ]
  },
  {
   "cell_type": "markdown",
   "metadata": {},
   "source": [
    "#### Print `austin_fixed` to check your `Date` column."
   ]
  },
  {
   "cell_type": "code",
   "execution_count": 47,
   "metadata": {},
   "outputs": [
    {
     "name": "stdout",
     "output_type": "stream",
     "text": [
      "        Date  TempHighF  TempAvgF  TempLowF  DewPointHighF  DewPointAvgF  \\\n",
      "0 2013-12-21         74        60        45           67.0          49.0   \n",
      "1 2013-12-22         56        48        39           43.0          36.0   \n",
      "2 2013-12-23         58        45        32           31.0          27.0   \n",
      "3 2013-12-24         61        46        31           36.0          28.0   \n",
      "4 2013-12-25         58        50        41           44.0          40.0   \n",
      "\n",
      "   DewPointLowF  HumidityHighPercent  HumidityAvgPercent  HumidityLowPercent  \\\n",
      "0          43.0                 93.0                75.0                57.0   \n",
      "1          28.0                 93.0                68.0                43.0   \n",
      "2          23.0                 76.0                52.0                27.0   \n",
      "3          21.0                 89.0                56.0                22.0   \n",
      "4          36.0                 86.0                71.0                56.0   \n",
      "\n",
      "   ...  VisibilityHighMiles  VisibilityAvgMiles  VisibilityLowMiles  \\\n",
      "0  ...                 10.0                 7.0                 2.0   \n",
      "1  ...                 10.0                10.0                 5.0   \n",
      "2  ...                 10.0                10.0                10.0   \n",
      "3  ...                 10.0                10.0                 7.0   \n",
      "4  ...                 10.0                10.0                 7.0   \n",
      "\n",
      "   WindHighMPH  WindAvgMPH  WindGustMPH  Rain  Snow  Fog  Thunderstorm  \n",
      "0         20.0         4.0         31.0     1     0    0             1  \n",
      "1         16.0         6.0         25.0     0     0    0             0  \n",
      "2          8.0         3.0         12.0     0     0    0             0  \n",
      "3         12.0         4.0         20.0     0     0    0             0  \n",
      "4         10.0         2.0         16.0     0     0    0             0  \n",
      "\n",
      "[5 rows x 23 columns]\n"
     ]
    }
   ],
   "source": [
    "print(austin_fixed.head(5))"
   ]
  },
  {
   "cell_type": "markdown",
   "metadata": {},
   "source": [
    "# Challenge 5 - Sampling and Holdout Sets"
   ]
  },
  {
   "cell_type": "markdown",
   "metadata": {},
   "source": [
    "#### Now that we have processed the data for machine learning, we will separate the data to test and training sets.\n",
    "\n",
    "We first train the model using only the training set. We check our metrics on the training set. We then apply the model to the test set and check our metrics on the test set as well. If the metrics are significantly more optimal on the training set, then we know we have overfit our model. We will need to revise our model to ensure it will be more applicable to data outside the test set."
   ]
  },
  {
   "cell_type": "markdown",
   "metadata": {},
   "source": [
    "#### In the next cells we will separate the data into a training set and a test set using the `train_test_split()` function in scikit-learn.\n",
    "\n",
    "When using `scikit-learn` for machine learning, we first separate the data to predictor and response variables. This is the standard way of passing datasets into a model in `scikit-learn`. The `scikit-learn` will then find out whether the predictors and responses fit the model.\n",
    "\n",
    "In the next cell, assign the `TempAvgF` column to `y` and the remaining columns to `X`. Your `X` should be a subset of `austin_fixed` containing the following columns: \n",
    "\n",
    "```['Date',\n",
    " 'TempHighF',\n",
    " 'TempLowF',\n",
    " 'DewPointHighF',\n",
    " 'DewPointAvgF',\n",
    " 'DewPointLowF',\n",
    " 'HumidityHighPercent',\n",
    " 'HumidityAvgPercent',\n",
    " 'HumidityLowPercent',\n",
    " 'SeaLevelPressureHighInches',\n",
    " 'SeaLevelPressureAvgInches',\n",
    " 'SeaLevelPressureLowInches',\n",
    " 'VisibilityHighMiles',\n",
    " 'VisibilityAvgMiles',\n",
    " 'VisibilityLowMiles',\n",
    " 'WindHighMPH',\n",
    " 'WindAvgMPH',\n",
    " 'WindGustMPH',\n",
    " 'Snow',\n",
    " 'Fog',\n",
    " 'Rain',\n",
    " 'Thunderstorm']```\n",
    " \n",
    " Your `y` should be a subset of `austin_fixed` containing one column `TempAvgF`."
   ]
  },
  {
   "cell_type": "code",
   "execution_count": 48,
   "metadata": {},
   "outputs": [
    {
     "name": "stdout",
     "output_type": "stream",
     "text": [
      "   TempHighF  TempLowF  DewPointHighF  DewPointAvgF  DewPointLowF  \\\n",
      "0         74        45           67.0          49.0          43.0   \n",
      "1         56        39           43.0          36.0          28.0   \n",
      "2         58        32           31.0          27.0          23.0   \n",
      "3         61        31           36.0          28.0          21.0   \n",
      "4         58        41           44.0          40.0          36.0   \n",
      "\n",
      "   HumidityHighPercent  HumidityAvgPercent  HumidityLowPercent  \\\n",
      "0                 93.0                75.0                57.0   \n",
      "1                 93.0                68.0                43.0   \n",
      "2                 76.0                52.0                27.0   \n",
      "3                 89.0                56.0                22.0   \n",
      "4                 86.0                71.0                56.0   \n",
      "\n",
      "   SeaLevelPressureHighInches  SeaLevelPressureAvgInches  ...  \\\n",
      "0                       29.86                      29.68  ...   \n",
      "1                       30.41                      30.13  ...   \n",
      "2                       30.56                      30.49  ...   \n",
      "3                       30.56                      30.45  ...   \n",
      "4                       30.41                      30.33  ...   \n",
      "\n",
      "   VisibilityHighMiles  VisibilityAvgMiles  VisibilityLowMiles  WindHighMPH  \\\n",
      "0                 10.0                 7.0                 2.0         20.0   \n",
      "1                 10.0                10.0                 5.0         16.0   \n",
      "2                 10.0                10.0                10.0          8.0   \n",
      "3                 10.0                10.0                 7.0         12.0   \n",
      "4                 10.0                10.0                 7.0         10.0   \n",
      "\n",
      "   WindAvgMPH  WindGustMPH  Snow  Fog  Rain  Thunderstorm  \n",
      "0         4.0         31.0     0    0     1             1  \n",
      "1         6.0         25.0     0    0     0             0  \n",
      "2         3.0         12.0     0    0     0             0  \n",
      "3         4.0         20.0     0    0     0             0  \n",
      "4         2.0         16.0     0    0     0             0  \n",
      "\n",
      "[5 rows x 21 columns]\n",
      "   TempAvgF\n",
      "0        60\n",
      "1        48\n",
      "2        45\n",
      "3        46\n",
      "4        50\n"
     ]
    }
   ],
   "source": [
    "# Your code here:\n",
    "# Define predictor variables (X)\n",
    "X = austin_fixed[['TempHighF',\n",
    "                  'TempLowF',\n",
    "                  'DewPointHighF',\n",
    "                  'DewPointAvgF',\n",
    "                  'DewPointLowF',\n",
    "                  'HumidityHighPercent',\n",
    "                  'HumidityAvgPercent',\n",
    "                  'HumidityLowPercent',\n",
    "                  'SeaLevelPressureHighInches',\n",
    "                  'SeaLevelPressureAvgInches',\n",
    "                  'SeaLevelPressureLowInches',\n",
    "                  'VisibilityHighMiles',\n",
    "                  'VisibilityAvgMiles',\n",
    "                  'VisibilityLowMiles',\n",
    "                  'WindHighMPH',\n",
    "                  'WindAvgMPH',\n",
    "                  'WindGustMPH',\n",
    "                  'Snow',\n",
    "                  'Fog',\n",
    "                  'Rain',\n",
    "                  'Thunderstorm']]\n",
    "\n",
    "# Define response variable (y)\n",
    "y = austin_fixed[['TempAvgF']]\n",
    "\n",
    "# Display first few rows to verify\n",
    "print(X.head())\n",
    "print(y.head())"
   ]
  },
  {
   "cell_type": "markdown",
   "metadata": {},
   "source": [
    "In the next cell, import `train_test_split` from `sklearn.model_selection`"
   ]
  },
  {
   "cell_type": "code",
   "execution_count": 49,
   "metadata": {},
   "outputs": [],
   "source": [
    "#Your code here:\n",
    "from sklearn.model_selection import train_test_split"
   ]
  },
  {
   "cell_type": "markdown",
   "metadata": {},
   "source": [
    "Now that we have split the data to predictor and response variables and imported the `train_test_split()` function, split `X` and `y` into `X_train`, `X_test`, `y_train`, and `y_test`. 80% of the data should be in the training set and 20% in the test set. `train_test_split()` reference can be accessed [here](https://scikit-learn.org/stable/modules/generated/sklearn.model_selection.train_test_split.html).\n",
    "\n",
    "\n",
    "Enter your code in the cell below:"
   ]
  },
  {
   "cell_type": "code",
   "execution_count": 50,
   "metadata": {},
   "outputs": [],
   "source": [
    "#Your code here:\n",
    "X_train, X_test, y_train, y_test = train_test_split(X, y, test_size=0.2, random_state=42)"
   ]
  },
  {
   "cell_type": "markdown",
   "metadata": {},
   "source": [
    "#### Congratulations! Now you have finished the preparation of the dataset!"
   ]
  },
  {
   "cell_type": "markdown",
   "metadata": {},
   "source": [
    "# Bonus Challenge 1\n",
    "\n",
    "#### While the above is the common practice to prepare most datasets, when it comes to time series data, we sometimes do not want to randomly select rows from our dataset.\n",
    "\n",
    "This is because many time series algorithms rely on observations having equal time distances between them. In such cases, we typically select the majority of rows as the test data and the last few rows as the training data. We don't use `train_test_split()` to select the train/test data because it returns random selections.\n",
    "\n",
    "In the following cell, compute the number of rows that account for 80% of our data and round it to the next integer. Assign this number to `ts_rows`."
   ]
  },
  {
   "cell_type": "code",
   "execution_count": 51,
   "metadata": {},
   "outputs": [
    {
     "name": "stdout",
     "output_type": "stream",
     "text": [
      "1056\n"
     ]
    }
   ],
   "source": [
    "# Your code here:\n",
    "import math\n",
    "\n",
    "ts_rows = math.ceil(len(austin_fixed) * 0.8)\n",
    "print(ts_rows)"
   ]
  },
  {
   "cell_type": "markdown",
   "metadata": {},
   "source": [
    "Assign the first `ts_rows` rows of `X` to `X_ts_train` and the remaining rows to `X_ts_test`."
   ]
  },
  {
   "cell_type": "code",
   "execution_count": 52,
   "metadata": {},
   "outputs": [
    {
     "name": "stdout",
     "output_type": "stream",
     "text": [
      "(1056, 21) (263, 21)\n"
     ]
    }
   ],
   "source": [
    "# Your code here:\n",
    "X_ts_train = X.iloc[:ts_rows]  # First 80% for training\n",
    "X_ts_test = X.iloc[ts_rows:]   # Remaining 20% for testing\n",
    "\n",
    "print(X_ts_train.shape, X_ts_test.shape)"
   ]
  },
  {
   "cell_type": "markdown",
   "metadata": {},
   "source": [
    "Assign the first `ts_rows` rows of `y` to `y_ts_train` and the remaining rows to `y_ts_test`."
   ]
  },
  {
   "cell_type": "code",
   "execution_count": 53,
   "metadata": {},
   "outputs": [
    {
     "name": "stdout",
     "output_type": "stream",
     "text": [
      "(1056, 1) (263, 1)\n"
     ]
    }
   ],
   "source": [
    "# Your code here:\n",
    "y_ts_train = y.iloc[:ts_rows]  # First 80% for training\n",
    "y_ts_test = y.iloc[ts_rows:]   # Remaining 20% for testing\n",
    "\n",
    "print(y_ts_train.shape, y_ts_test.shape)"
   ]
  },
  {
   "cell_type": "code",
   "execution_count": null,
   "metadata": {},
   "outputs": [],
   "source": []
  }
 ],
 "metadata": {
  "kernelspec": {
   "display_name": "Python 3 (ipykernel)",
   "language": "python",
   "name": "python3"
  },
  "language_info": {
   "codemirror_mode": {
    "name": "ipython",
    "version": 3
   },
   "file_extension": ".py",
   "mimetype": "text/x-python",
   "name": "python",
   "nbconvert_exporter": "python",
   "pygments_lexer": "ipython3",
   "version": "3.11.7"
  }
 },
 "nbformat": 4,
 "nbformat_minor": 4
}
